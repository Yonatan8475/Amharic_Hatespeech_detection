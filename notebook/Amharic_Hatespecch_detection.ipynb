{
  "nbformat": 4,
  "nbformat_minor": 0,
  "metadata": {
    "colab": {
      "provenance": [],
      "machine_shape": "hm",
      "gpuType": "A100"
    },
    "kernelspec": {
      "name": "python3",
      "display_name": "Python 3"
    },
    "language_info": {
      "name": "python"
    },
    "accelerator": "GPU",
    "widgets": {
      "application/vnd.jupyter.widget-state+json": {
        "637d977e011744afb7e0510b9504d708": {
          "model_module": "@jupyter-widgets/controls",
          "model_name": "HBoxModel",
          "model_module_version": "1.5.0",
          "state": {
            "_dom_classes": [],
            "_model_module": "@jupyter-widgets/controls",
            "_model_module_version": "1.5.0",
            "_model_name": "HBoxModel",
            "_view_count": null,
            "_view_module": "@jupyter-widgets/controls",
            "_view_module_version": "1.5.0",
            "_view_name": "HBoxView",
            "box_style": "",
            "children": [
              "IPY_MODEL_7af941c0efdb4f2db5cfc58d35d688b6",
              "IPY_MODEL_028cbcfdfbba4b46badada2c4ff376aa",
              "IPY_MODEL_2fda4e2a151945a28c8c40102d9cf719"
            ],
            "layout": "IPY_MODEL_0912afe17d5a44b1ad9b767ef4b814a0"
          }
        },
        "7af941c0efdb4f2db5cfc58d35d688b6": {
          "model_module": "@jupyter-widgets/controls",
          "model_name": "HTMLModel",
          "model_module_version": "1.5.0",
          "state": {
            "_dom_classes": [],
            "_model_module": "@jupyter-widgets/controls",
            "_model_module_version": "1.5.0",
            "_model_name": "HTMLModel",
            "_view_count": null,
            "_view_module": "@jupyter-widgets/controls",
            "_view_module_version": "1.5.0",
            "_view_name": "HTMLView",
            "description": "",
            "description_tooltip": null,
            "layout": "IPY_MODEL_6ca844444f054e6ba5580bda7089d50f",
            "placeholder": "​",
            "style": "IPY_MODEL_bc2d311d357b444087dec7455071789c",
            "value": "Map: 100%"
          }
        },
        "028cbcfdfbba4b46badada2c4ff376aa": {
          "model_module": "@jupyter-widgets/controls",
          "model_name": "FloatProgressModel",
          "model_module_version": "1.5.0",
          "state": {
            "_dom_classes": [],
            "_model_module": "@jupyter-widgets/controls",
            "_model_module_version": "1.5.0",
            "_model_name": "FloatProgressModel",
            "_view_count": null,
            "_view_module": "@jupyter-widgets/controls",
            "_view_module_version": "1.5.0",
            "_view_name": "ProgressView",
            "bar_style": "success",
            "description": "",
            "description_tooltip": null,
            "layout": "IPY_MODEL_e10662a5a4a44dcd9a8d8dc12aeef618",
            "max": 6720,
            "min": 0,
            "orientation": "horizontal",
            "style": "IPY_MODEL_fe5b69a2212e47a6a069ca585cc5b59c",
            "value": 6720
          }
        },
        "2fda4e2a151945a28c8c40102d9cf719": {
          "model_module": "@jupyter-widgets/controls",
          "model_name": "HTMLModel",
          "model_module_version": "1.5.0",
          "state": {
            "_dom_classes": [],
            "_model_module": "@jupyter-widgets/controls",
            "_model_module_version": "1.5.0",
            "_model_name": "HTMLModel",
            "_view_count": null,
            "_view_module": "@jupyter-widgets/controls",
            "_view_module_version": "1.5.0",
            "_view_name": "HTMLView",
            "description": "",
            "description_tooltip": null,
            "layout": "IPY_MODEL_6e9e0049ffdd41b3a7e04de3dc3b325d",
            "placeholder": "​",
            "style": "IPY_MODEL_8395b815e89c4426b16f0f5ac51050bb",
            "value": " 6720/6720 [00:01&lt;00:00, 4460.98 examples/s]"
          }
        },
        "0912afe17d5a44b1ad9b767ef4b814a0": {
          "model_module": "@jupyter-widgets/base",
          "model_name": "LayoutModel",
          "model_module_version": "1.2.0",
          "state": {
            "_model_module": "@jupyter-widgets/base",
            "_model_module_version": "1.2.0",
            "_model_name": "LayoutModel",
            "_view_count": null,
            "_view_module": "@jupyter-widgets/base",
            "_view_module_version": "1.2.0",
            "_view_name": "LayoutView",
            "align_content": null,
            "align_items": null,
            "align_self": null,
            "border": null,
            "bottom": null,
            "display": null,
            "flex": null,
            "flex_flow": null,
            "grid_area": null,
            "grid_auto_columns": null,
            "grid_auto_flow": null,
            "grid_auto_rows": null,
            "grid_column": null,
            "grid_gap": null,
            "grid_row": null,
            "grid_template_areas": null,
            "grid_template_columns": null,
            "grid_template_rows": null,
            "height": null,
            "justify_content": null,
            "justify_items": null,
            "left": null,
            "margin": null,
            "max_height": null,
            "max_width": null,
            "min_height": null,
            "min_width": null,
            "object_fit": null,
            "object_position": null,
            "order": null,
            "overflow": null,
            "overflow_x": null,
            "overflow_y": null,
            "padding": null,
            "right": null,
            "top": null,
            "visibility": null,
            "width": null
          }
        },
        "6ca844444f054e6ba5580bda7089d50f": {
          "model_module": "@jupyter-widgets/base",
          "model_name": "LayoutModel",
          "model_module_version": "1.2.0",
          "state": {
            "_model_module": "@jupyter-widgets/base",
            "_model_module_version": "1.2.0",
            "_model_name": "LayoutModel",
            "_view_count": null,
            "_view_module": "@jupyter-widgets/base",
            "_view_module_version": "1.2.0",
            "_view_name": "LayoutView",
            "align_content": null,
            "align_items": null,
            "align_self": null,
            "border": null,
            "bottom": null,
            "display": null,
            "flex": null,
            "flex_flow": null,
            "grid_area": null,
            "grid_auto_columns": null,
            "grid_auto_flow": null,
            "grid_auto_rows": null,
            "grid_column": null,
            "grid_gap": null,
            "grid_row": null,
            "grid_template_areas": null,
            "grid_template_columns": null,
            "grid_template_rows": null,
            "height": null,
            "justify_content": null,
            "justify_items": null,
            "left": null,
            "margin": null,
            "max_height": null,
            "max_width": null,
            "min_height": null,
            "min_width": null,
            "object_fit": null,
            "object_position": null,
            "order": null,
            "overflow": null,
            "overflow_x": null,
            "overflow_y": null,
            "padding": null,
            "right": null,
            "top": null,
            "visibility": null,
            "width": null
          }
        },
        "bc2d311d357b444087dec7455071789c": {
          "model_module": "@jupyter-widgets/controls",
          "model_name": "DescriptionStyleModel",
          "model_module_version": "1.5.0",
          "state": {
            "_model_module": "@jupyter-widgets/controls",
            "_model_module_version": "1.5.0",
            "_model_name": "DescriptionStyleModel",
            "_view_count": null,
            "_view_module": "@jupyter-widgets/base",
            "_view_module_version": "1.2.0",
            "_view_name": "StyleView",
            "description_width": ""
          }
        },
        "e10662a5a4a44dcd9a8d8dc12aeef618": {
          "model_module": "@jupyter-widgets/base",
          "model_name": "LayoutModel",
          "model_module_version": "1.2.0",
          "state": {
            "_model_module": "@jupyter-widgets/base",
            "_model_module_version": "1.2.0",
            "_model_name": "LayoutModel",
            "_view_count": null,
            "_view_module": "@jupyter-widgets/base",
            "_view_module_version": "1.2.0",
            "_view_name": "LayoutView",
            "align_content": null,
            "align_items": null,
            "align_self": null,
            "border": null,
            "bottom": null,
            "display": null,
            "flex": null,
            "flex_flow": null,
            "grid_area": null,
            "grid_auto_columns": null,
            "grid_auto_flow": null,
            "grid_auto_rows": null,
            "grid_column": null,
            "grid_gap": null,
            "grid_row": null,
            "grid_template_areas": null,
            "grid_template_columns": null,
            "grid_template_rows": null,
            "height": null,
            "justify_content": null,
            "justify_items": null,
            "left": null,
            "margin": null,
            "max_height": null,
            "max_width": null,
            "min_height": null,
            "min_width": null,
            "object_fit": null,
            "object_position": null,
            "order": null,
            "overflow": null,
            "overflow_x": null,
            "overflow_y": null,
            "padding": null,
            "right": null,
            "top": null,
            "visibility": null,
            "width": null
          }
        },
        "fe5b69a2212e47a6a069ca585cc5b59c": {
          "model_module": "@jupyter-widgets/controls",
          "model_name": "ProgressStyleModel",
          "model_module_version": "1.5.0",
          "state": {
            "_model_module": "@jupyter-widgets/controls",
            "_model_module_version": "1.5.0",
            "_model_name": "ProgressStyleModel",
            "_view_count": null,
            "_view_module": "@jupyter-widgets/base",
            "_view_module_version": "1.2.0",
            "_view_name": "StyleView",
            "bar_color": null,
            "description_width": ""
          }
        },
        "6e9e0049ffdd41b3a7e04de3dc3b325d": {
          "model_module": "@jupyter-widgets/base",
          "model_name": "LayoutModel",
          "model_module_version": "1.2.0",
          "state": {
            "_model_module": "@jupyter-widgets/base",
            "_model_module_version": "1.2.0",
            "_model_name": "LayoutModel",
            "_view_count": null,
            "_view_module": "@jupyter-widgets/base",
            "_view_module_version": "1.2.0",
            "_view_name": "LayoutView",
            "align_content": null,
            "align_items": null,
            "align_self": null,
            "border": null,
            "bottom": null,
            "display": null,
            "flex": null,
            "flex_flow": null,
            "grid_area": null,
            "grid_auto_columns": null,
            "grid_auto_flow": null,
            "grid_auto_rows": null,
            "grid_column": null,
            "grid_gap": null,
            "grid_row": null,
            "grid_template_areas": null,
            "grid_template_columns": null,
            "grid_template_rows": null,
            "height": null,
            "justify_content": null,
            "justify_items": null,
            "left": null,
            "margin": null,
            "max_height": null,
            "max_width": null,
            "min_height": null,
            "min_width": null,
            "object_fit": null,
            "object_position": null,
            "order": null,
            "overflow": null,
            "overflow_x": null,
            "overflow_y": null,
            "padding": null,
            "right": null,
            "top": null,
            "visibility": null,
            "width": null
          }
        },
        "8395b815e89c4426b16f0f5ac51050bb": {
          "model_module": "@jupyter-widgets/controls",
          "model_name": "DescriptionStyleModel",
          "model_module_version": "1.5.0",
          "state": {
            "_model_module": "@jupyter-widgets/controls",
            "_model_module_version": "1.5.0",
            "_model_name": "DescriptionStyleModel",
            "_view_count": null,
            "_view_module": "@jupyter-widgets/base",
            "_view_module_version": "1.2.0",
            "_view_name": "StyleView",
            "description_width": ""
          }
        }
      }
    }
  },
  "cells": [
    {
      "cell_type": "code",
      "source": [
        "!pip install transformers datasets\n",
        "!pip install torch torchvision torchaudio\n",
        "!pip install datasets\n"
      ],
      "metadata": {
        "colab": {
          "base_uri": "https://localhost:8080/"
        },
        "id": "ulO9f5P8Gzf4",
        "outputId": "34d42d02-6677-4c36-dd83-4e38ebce78e7"
      },
      "execution_count": 1,
      "outputs": [
        {
          "output_type": "stream",
          "name": "stdout",
          "text": [
            "Requirement already satisfied: transformers in /usr/local/lib/python3.11/dist-packages (4.48.3)\n",
            "Requirement already satisfied: datasets in /usr/local/lib/python3.11/dist-packages (3.3.2)\n",
            "Requirement already satisfied: filelock in /usr/local/lib/python3.11/dist-packages (from transformers) (3.17.0)\n",
            "Requirement already satisfied: huggingface-hub<1.0,>=0.24.0 in /usr/local/lib/python3.11/dist-packages (from transformers) (0.28.1)\n",
            "Requirement already satisfied: numpy>=1.17 in /usr/local/lib/python3.11/dist-packages (from transformers) (1.26.4)\n",
            "Requirement already satisfied: packaging>=20.0 in /usr/local/lib/python3.11/dist-packages (from transformers) (24.2)\n",
            "Requirement already satisfied: pyyaml>=5.1 in /usr/local/lib/python3.11/dist-packages (from transformers) (6.0.2)\n",
            "Requirement already satisfied: regex!=2019.12.17 in /usr/local/lib/python3.11/dist-packages (from transformers) (2024.11.6)\n",
            "Requirement already satisfied: requests in /usr/local/lib/python3.11/dist-packages (from transformers) (2.32.3)\n",
            "Requirement already satisfied: tokenizers<0.22,>=0.21 in /usr/local/lib/python3.11/dist-packages (from transformers) (0.21.0)\n",
            "Requirement already satisfied: safetensors>=0.4.1 in /usr/local/lib/python3.11/dist-packages (from transformers) (0.5.3)\n",
            "Requirement already satisfied: tqdm>=4.27 in /usr/local/lib/python3.11/dist-packages (from transformers) (4.67.1)\n",
            "Requirement already satisfied: pyarrow>=15.0.0 in /usr/local/lib/python3.11/dist-packages (from datasets) (18.1.0)\n",
            "Requirement already satisfied: dill<0.3.9,>=0.3.0 in /usr/local/lib/python3.11/dist-packages (from datasets) (0.3.8)\n",
            "Requirement already satisfied: pandas in /usr/local/lib/python3.11/dist-packages (from datasets) (2.2.2)\n",
            "Requirement already satisfied: xxhash in /usr/local/lib/python3.11/dist-packages (from datasets) (3.5.0)\n",
            "Requirement already satisfied: multiprocess<0.70.17 in /usr/local/lib/python3.11/dist-packages (from datasets) (0.70.16)\n",
            "Requirement already satisfied: fsspec<=2024.12.0,>=2023.1.0 in /usr/local/lib/python3.11/dist-packages (from fsspec[http]<=2024.12.0,>=2023.1.0->datasets) (2024.10.0)\n",
            "Requirement already satisfied: aiohttp in /usr/local/lib/python3.11/dist-packages (from datasets) (3.11.13)\n",
            "Requirement already satisfied: aiohappyeyeballs>=2.3.0 in /usr/local/lib/python3.11/dist-packages (from aiohttp->datasets) (2.5.0)\n",
            "Requirement already satisfied: aiosignal>=1.1.2 in /usr/local/lib/python3.11/dist-packages (from aiohttp->datasets) (1.3.2)\n",
            "Requirement already satisfied: attrs>=17.3.0 in /usr/local/lib/python3.11/dist-packages (from aiohttp->datasets) (25.1.0)\n",
            "Requirement already satisfied: frozenlist>=1.1.1 in /usr/local/lib/python3.11/dist-packages (from aiohttp->datasets) (1.5.0)\n",
            "Requirement already satisfied: multidict<7.0,>=4.5 in /usr/local/lib/python3.11/dist-packages (from aiohttp->datasets) (6.1.0)\n",
            "Requirement already satisfied: propcache>=0.2.0 in /usr/local/lib/python3.11/dist-packages (from aiohttp->datasets) (0.3.0)\n",
            "Requirement already satisfied: yarl<2.0,>=1.17.0 in /usr/local/lib/python3.11/dist-packages (from aiohttp->datasets) (1.18.3)\n",
            "Requirement already satisfied: typing-extensions>=3.7.4.3 in /usr/local/lib/python3.11/dist-packages (from huggingface-hub<1.0,>=0.24.0->transformers) (4.12.2)\n",
            "Requirement already satisfied: charset-normalizer<4,>=2 in /usr/local/lib/python3.11/dist-packages (from requests->transformers) (3.4.1)\n",
            "Requirement already satisfied: idna<4,>=2.5 in /usr/local/lib/python3.11/dist-packages (from requests->transformers) (3.10)\n",
            "Requirement already satisfied: urllib3<3,>=1.21.1 in /usr/local/lib/python3.11/dist-packages (from requests->transformers) (2.3.0)\n",
            "Requirement already satisfied: certifi>=2017.4.17 in /usr/local/lib/python3.11/dist-packages (from requests->transformers) (2025.1.31)\n",
            "Requirement already satisfied: python-dateutil>=2.8.2 in /usr/local/lib/python3.11/dist-packages (from pandas->datasets) (2.8.2)\n",
            "Requirement already satisfied: pytz>=2020.1 in /usr/local/lib/python3.11/dist-packages (from pandas->datasets) (2025.1)\n",
            "Requirement already satisfied: tzdata>=2022.7 in /usr/local/lib/python3.11/dist-packages (from pandas->datasets) (2025.1)\n",
            "Requirement already satisfied: six>=1.5 in /usr/local/lib/python3.11/dist-packages (from python-dateutil>=2.8.2->pandas->datasets) (1.17.0)\n",
            "Requirement already satisfied: torch in /usr/local/lib/python3.11/dist-packages (2.5.1+cu124)\n",
            "Requirement already satisfied: torchvision in /usr/local/lib/python3.11/dist-packages (0.20.1+cu124)\n",
            "Requirement already satisfied: torchaudio in /usr/local/lib/python3.11/dist-packages (2.5.1+cu124)\n",
            "Requirement already satisfied: filelock in /usr/local/lib/python3.11/dist-packages (from torch) (3.17.0)\n",
            "Requirement already satisfied: typing-extensions>=4.8.0 in /usr/local/lib/python3.11/dist-packages (from torch) (4.12.2)\n",
            "Requirement already satisfied: networkx in /usr/local/lib/python3.11/dist-packages (from torch) (3.4.2)\n",
            "Requirement already satisfied: jinja2 in /usr/local/lib/python3.11/dist-packages (from torch) (3.1.6)\n",
            "Requirement already satisfied: fsspec in /usr/local/lib/python3.11/dist-packages (from torch) (2024.10.0)\n",
            "Requirement already satisfied: nvidia-cuda-nvrtc-cu12==12.4.127 in /usr/local/lib/python3.11/dist-packages (from torch) (12.4.127)\n",
            "Requirement already satisfied: nvidia-cuda-runtime-cu12==12.4.127 in /usr/local/lib/python3.11/dist-packages (from torch) (12.4.127)\n",
            "Requirement already satisfied: nvidia-cuda-cupti-cu12==12.4.127 in /usr/local/lib/python3.11/dist-packages (from torch) (12.4.127)\n",
            "Requirement already satisfied: nvidia-cudnn-cu12==9.1.0.70 in /usr/local/lib/python3.11/dist-packages (from torch) (9.1.0.70)\n",
            "Requirement already satisfied: nvidia-cublas-cu12==12.4.5.8 in /usr/local/lib/python3.11/dist-packages (from torch) (12.4.5.8)\n",
            "Requirement already satisfied: nvidia-cufft-cu12==11.2.1.3 in /usr/local/lib/python3.11/dist-packages (from torch) (11.2.1.3)\n",
            "Requirement already satisfied: nvidia-curand-cu12==10.3.5.147 in /usr/local/lib/python3.11/dist-packages (from torch) (10.3.5.147)\n",
            "Requirement already satisfied: nvidia-cusolver-cu12==11.6.1.9 in /usr/local/lib/python3.11/dist-packages (from torch) (11.6.1.9)\n",
            "Requirement already satisfied: nvidia-cusparse-cu12==12.3.1.170 in /usr/local/lib/python3.11/dist-packages (from torch) (12.3.1.170)\n",
            "Requirement already satisfied: nvidia-nccl-cu12==2.21.5 in /usr/local/lib/python3.11/dist-packages (from torch) (2.21.5)\n",
            "Requirement already satisfied: nvidia-nvtx-cu12==12.4.127 in /usr/local/lib/python3.11/dist-packages (from torch) (12.4.127)\n",
            "Requirement already satisfied: nvidia-nvjitlink-cu12==12.4.127 in /usr/local/lib/python3.11/dist-packages (from torch) (12.4.127)\n",
            "Requirement already satisfied: triton==3.1.0 in /usr/local/lib/python3.11/dist-packages (from torch) (3.1.0)\n",
            "Requirement already satisfied: sympy==1.13.1 in /usr/local/lib/python3.11/dist-packages (from torch) (1.13.1)\n",
            "Requirement already satisfied: mpmath<1.4,>=1.1.0 in /usr/local/lib/python3.11/dist-packages (from sympy==1.13.1->torch) (1.3.0)\n",
            "Requirement already satisfied: numpy in /usr/local/lib/python3.11/dist-packages (from torchvision) (1.26.4)\n",
            "Requirement already satisfied: pillow!=8.3.*,>=5.3.0 in /usr/local/lib/python3.11/dist-packages (from torchvision) (11.1.0)\n",
            "Requirement already satisfied: MarkupSafe>=2.0 in /usr/local/lib/python3.11/dist-packages (from jinja2->torch) (3.0.2)\n",
            "Requirement already satisfied: datasets in /usr/local/lib/python3.11/dist-packages (3.3.2)\n",
            "Requirement already satisfied: filelock in /usr/local/lib/python3.11/dist-packages (from datasets) (3.17.0)\n",
            "Requirement already satisfied: numpy>=1.17 in /usr/local/lib/python3.11/dist-packages (from datasets) (1.26.4)\n",
            "Requirement already satisfied: pyarrow>=15.0.0 in /usr/local/lib/python3.11/dist-packages (from datasets) (18.1.0)\n",
            "Requirement already satisfied: dill<0.3.9,>=0.3.0 in /usr/local/lib/python3.11/dist-packages (from datasets) (0.3.8)\n",
            "Requirement already satisfied: pandas in /usr/local/lib/python3.11/dist-packages (from datasets) (2.2.2)\n",
            "Requirement already satisfied: requests>=2.32.2 in /usr/local/lib/python3.11/dist-packages (from datasets) (2.32.3)\n",
            "Requirement already satisfied: tqdm>=4.66.3 in /usr/local/lib/python3.11/dist-packages (from datasets) (4.67.1)\n",
            "Requirement already satisfied: xxhash in /usr/local/lib/python3.11/dist-packages (from datasets) (3.5.0)\n",
            "Requirement already satisfied: multiprocess<0.70.17 in /usr/local/lib/python3.11/dist-packages (from datasets) (0.70.16)\n",
            "Requirement already satisfied: fsspec<=2024.12.0,>=2023.1.0 in /usr/local/lib/python3.11/dist-packages (from fsspec[http]<=2024.12.0,>=2023.1.0->datasets) (2024.10.0)\n",
            "Requirement already satisfied: aiohttp in /usr/local/lib/python3.11/dist-packages (from datasets) (3.11.13)\n",
            "Requirement already satisfied: huggingface-hub>=0.24.0 in /usr/local/lib/python3.11/dist-packages (from datasets) (0.28.1)\n",
            "Requirement already satisfied: packaging in /usr/local/lib/python3.11/dist-packages (from datasets) (24.2)\n",
            "Requirement already satisfied: pyyaml>=5.1 in /usr/local/lib/python3.11/dist-packages (from datasets) (6.0.2)\n",
            "Requirement already satisfied: aiohappyeyeballs>=2.3.0 in /usr/local/lib/python3.11/dist-packages (from aiohttp->datasets) (2.5.0)\n",
            "Requirement already satisfied: aiosignal>=1.1.2 in /usr/local/lib/python3.11/dist-packages (from aiohttp->datasets) (1.3.2)\n",
            "Requirement already satisfied: attrs>=17.3.0 in /usr/local/lib/python3.11/dist-packages (from aiohttp->datasets) (25.1.0)\n",
            "Requirement already satisfied: frozenlist>=1.1.1 in /usr/local/lib/python3.11/dist-packages (from aiohttp->datasets) (1.5.0)\n",
            "Requirement already satisfied: multidict<7.0,>=4.5 in /usr/local/lib/python3.11/dist-packages (from aiohttp->datasets) (6.1.0)\n",
            "Requirement already satisfied: propcache>=0.2.0 in /usr/local/lib/python3.11/dist-packages (from aiohttp->datasets) (0.3.0)\n",
            "Requirement already satisfied: yarl<2.0,>=1.17.0 in /usr/local/lib/python3.11/dist-packages (from aiohttp->datasets) (1.18.3)\n",
            "Requirement already satisfied: typing-extensions>=3.7.4.3 in /usr/local/lib/python3.11/dist-packages (from huggingface-hub>=0.24.0->datasets) (4.12.2)\n",
            "Requirement already satisfied: charset-normalizer<4,>=2 in /usr/local/lib/python3.11/dist-packages (from requests>=2.32.2->datasets) (3.4.1)\n",
            "Requirement already satisfied: idna<4,>=2.5 in /usr/local/lib/python3.11/dist-packages (from requests>=2.32.2->datasets) (3.10)\n",
            "Requirement already satisfied: urllib3<3,>=1.21.1 in /usr/local/lib/python3.11/dist-packages (from requests>=2.32.2->datasets) (2.3.0)\n",
            "Requirement already satisfied: certifi>=2017.4.17 in /usr/local/lib/python3.11/dist-packages (from requests>=2.32.2->datasets) (2025.1.31)\n",
            "Requirement already satisfied: python-dateutil>=2.8.2 in /usr/local/lib/python3.11/dist-packages (from pandas->datasets) (2.8.2)\n",
            "Requirement already satisfied: pytz>=2020.1 in /usr/local/lib/python3.11/dist-packages (from pandas->datasets) (2025.1)\n",
            "Requirement already satisfied: tzdata>=2022.7 in /usr/local/lib/python3.11/dist-packages (from pandas->datasets) (2025.1)\n",
            "Requirement already satisfied: six>=1.5 in /usr/local/lib/python3.11/dist-packages (from python-dateutil>=2.8.2->pandas->datasets) (1.17.0)\n"
          ]
        }
      ]
    },
    {
      "cell_type": "code",
      "source": [
        "from transformers import pipeline\n",
        "import random\n",
        "import re\n",
        "from collections import Counter\n",
        "from datasets import Dataset, load_dataset\n",
        "from transformers import AutoTokenizer\n",
        "from transformers import AutoModelForSequenceClassification, TrainingArguments, Trainer, EarlyStoppingCallback\n",
        "from sklearn.metrics import precision_recall_fscore_support, accuracy_score\n",
        "import numpy as np\n",
        "import matplotlib.pyplot as pl\n",
        "import os\n",
        "from sklearn.metrics import confusion_matrix, ConfusionMatrixDisplay\n",
        "import pandas as pd\n",
        "from sklearn.metrics import classification_repor\n",
        "import pandas as pd\n",
        "from transformers import pipeline\n"
      ],
      "metadata": {
        "id": "znYTHan-VMW0"
      },
      "execution_count": null,
      "outputs": []
    },
    {
      "cell_type": "markdown",
      "source": [
        "## **Function: `load_and_clean_data`**\n",
        "This function loads a dataset, cleans the text, and maps labels to numerical values.\n",
        "\n",
        "### **Parameters:**\n",
        "- `dataset_name` (str): The name of the dataset to be loaded.\n",
        "- `label_mapping` (dict): A dictionary mapping label names to numerical values.\n",
        "\n",
        "### **Process:**\n",
        "1. **Load the dataset**: Uses the `load_dataset` function to load the dataset.\n",
        "2. **Extract texts and labels**: Retrieves text data and corresponding labels from the training set.\n",
        "3. **Clean the text**:\n",
        "   - Converts text to lowercase.\n",
        "   - Removes extra spaces.\n",
        "   - Keeps only Amharic punctuation (`።፡፣`) and removes other special characters.\n",
        "4. **Map labels to numerical values**: Converts textual labels into numbers using `label_mapping`.\n",
        "\n",
        "### **Returns:**\n",
        "- `texts` (list): A list of cleaned text data.\n",
        "- `numerical_labels` (list): A list of corresponding numerical labels.\n",
        "\n",
        "---\n",
        "\n",
        "## **Function: `plot_dataset_distribution`**\n",
        "This function visualizes the distribution of labels in the dataset.\n",
        "\n",
        "### **Parameters:**\n",
        "- `labels` (list): A list of numerical labels.\n",
        "- `title` (str, optional): Title for the plot (default is `\"Dataset Label Distribution\"`).\n",
        "\n",
        "### **Process:**\n",
        "1. **Count label frequencies**: Uses `Counter` to count occurrences of each label.\n",
        "2. **Print the distribution**: Displays label counts in the console.\n",
        "3. **Plot the distribution**:\n",
        "   - Uses a bar chart to visualize label frequencies.\n",
        "   - Sets axis labels, title, and tick marks for better readability.\n",
        "\n",
        "---\n",
        "\n"
      ],
      "metadata": {
        "id": "DffOEQ111Xjx"
      }
    },
    {
      "cell_type": "code",
      "source": [
        "\n",
        "def load_and_clean_data(dataset_name, label_mapping):\n",
        "    \"\"\"\n",
        "    Load the dataset, clean texts, and map labels to numerical.\n",
        "    \"\"\"\n",
        "    # Load dataset\n",
        "    dataset = load_dataset(dataset_name)\n",
        "    texts = dataset[\"train\"][\"text\"]\n",
        "    labels = dataset[\"train\"][\"label\"]\n",
        "\n",
        "    # Clean text\n",
        "    def clean_text(text):\n",
        "        text = text.lower()\n",
        "        text = re.sub(r'\\s+', ' ', text)  # Remove extra spaces\n",
        "        text = re.sub(r'[^\\w\\s።፡፣]', '', text)  # Keep Amharic punctuation\n",
        "        return text.strip()\n",
        "\n",
        "    texts = [clean_text(text) for text in texts]\n",
        "    numerical_labels = [label_mapping[label] for label in labels]\n",
        "\n",
        "    return texts, numerical_labels\n",
        "\n",
        "def plot_dataset_distribution(labels, title=\"Dataset Label Distribution\"):\n",
        "    \"\"\"\n",
        "    Display and plot the distribution of labels in the dataset.\n",
        "\n",
        "    Parameters:\n",
        "      labels (list): A list of numerical labels.\n",
        "      title (str): Title for the plot.\n",
        "    \"\"\"\n",
        "    # Count the frequency of each label\n",
        "    label_counts = Counter(labels)\n",
        "\n",
        "    # Print the distribution\n",
        "    print(\"Label Distribution:\")\n",
        "    for label, count in label_counts.items():\n",
        "        print(f\"Label {label}: {count}\")\n",
        "\n",
        "    # Prepare data for plotting\n",
        "    keys = sorted(label_counts.keys())\n",
        "    values = [label_counts[k] for k in keys]\n",
        "\n",
        "    # Plot the distribution with a bar chart\n",
        "    plt.figure(figsize=(8, 5))\n",
        "    plt.bar(keys, values, color=\"skyblue\")\n",
        "    plt.xlabel(\"Labels\")\n",
        "    plt.ylabel(\"Frequency\")\n",
        "    plt.title(title)\n",
        "    plt.xticks(keys)\n",
        "    plt.show()\n",
        "\n",
        "# Example usage:\n",
        "label_mapping = {\"hate\": 0, \"normal\": 1, \"offensive\": 2}\n",
        "texts, labels = load_and_clean_data(\"uhhlt/amharichatespeechranlp\", label_mapping)\n",
        "\n",
        "# Show the distribution of labels before balancing the dataset\n",
        "plot_dataset_distribution(labels, title=\"Class Distribution Before Balancing\")\n"
      ],
      "metadata": {
        "colab": {
          "base_uri": "https://localhost:8080/",
          "height": 549
        },
        "id": "YguGwPwtX1je",
        "outputId": "255e7f48-7c44-478d-fe44-d68a667ba942"
      },
      "execution_count": 19,
      "outputs": [
        {
          "output_type": "stream",
          "name": "stdout",
          "text": [
            "Label Distribution:\n",
            "Label 2: 2240\n",
            "Label 1: 4477\n",
            "Label 0: 5283\n"
          ]
        },
        {
          "output_type": "display_data",
          "data": {
            "text/plain": [
              "<Figure size 800x500 with 1 Axes>"
            ],
            "image/png": "[encoded data removed]"
          },
          "metadata": {}
        }
      ]
    },
    {
      "cell_type": "markdown",
      "source": [
        "## **Function: `balance_data`**\n",
        "This function balances the dataset by downsampling each class to a specified target sample size.\n",
        "\n",
        "### **Parameters:**\n",
        "- `texts` (list): A list of text data.\n",
        "- `labels` (list): A list of corresponding labels.\n",
        "- `target_samples` (int): The maximum number of samples to retain per class.\n",
        "\n",
        "### **Process:**\n",
        "1. **Pair texts and labels**: Combines them into a list of tuples.\n",
        "2. **Count label occurrences**: Uses `Counter` to determine the number of samples for each class.\n",
        "3. **Downsample if necessary**:\n",
        "   - If a class has more than `target_samples`, it is randomly sampled down to the limit.\n",
        "4. **Shuffle the balanced dataset**: Ensures randomness in the final dataset.\n",
        "5. **Return balanced texts and labels**.\n",
        "\n",
        "### **Returns:**\n",
        "- `balanced_texts` (list): A list of downsampled text data.\n",
        "- `balanced_labels` (list): Corresponding labels.\n",
        "\n",
        "---\n",
        "\n",
        "## **Function: `plot_dataset_distribution`**\n",
        "This function visualizes the distribution of labels in the dataset.\n",
        "\n",
        "### **Parameters:**\n",
        "- `labels` (list): A list of numerical labels.\n",
        "- `title` (str, optional): The title for the plot (default is `\"Dataset Distribution\"`).\n",
        "\n",
        "### **Process:**\n",
        "1. **Count label frequencies**: Uses `Counter` to determine the number of samples per class.\n",
        "2. **Print the label distribution**: Displays the number of occurrences of each label in the console.\n",
        "3. **Plot the distribution**:\n",
        "   - Uses a bar chart to visualize label counts.\n",
        "   - Configures axis labels, title, and tick marks for readability.\n",
        "\n",
        "\n"
      ],
      "metadata": {
        "id": "65GyqS6212Qf"
      }
    },
    {
      "cell_type": "code",
      "source": [
        "\n",
        "\n",
        "def balance_data(texts, labels, target_samples):\n",
        "    \"\"\"\n",
        "    Balance dataset by downsampling all classes to the target sample size.\n",
        "    \"\"\"\n",
        "    data = list(zip(texts, labels))\n",
        "    label_counts = Counter(labels)\n",
        "\n",
        "    balanced_data = []\n",
        "    for label in label_counts:\n",
        "        # Extract all entries for the current class\n",
        "        class_data = [text for text, lbl in data if lbl == label]\n",
        "        # Downsample if necessary\n",
        "        if len(class_data) > target_samples:\n",
        "            class_data = random.sample(class_data, target_samples)\n",
        "        balanced_data.extend(list(zip(class_data, [label] * len(class_data))))\n",
        "\n",
        "    # Shuffle the balanced data\n",
        "    random.shuffle(balanced_data)\n",
        "    balanced_texts, balanced_labels = zip(*balanced_data)\n",
        "    return balanced_texts, balanced_labels\n",
        "\n",
        "def plot_dataset_distribution(labels, title=\"Dataset Distribution\"):\n",
        "    \"\"\"\n",
        "    Plot the distribution of labels in a dataset.\n",
        "\n",
        "    Parameters:\n",
        "      labels (list): A list of labels.\n",
        "      title (str): The title for the plot.\n",
        "    \"\"\"\n",
        "    # Count frequency of each label\n",
        "    label_counts = Counter(labels)\n",
        "\n",
        "    # Print label counts\n",
        "    print(\"Label Distribution:\")\n",
        "    for label, count in label_counts.items():\n",
        "        print(f\"Label {label}: {count}\")\n",
        "\n",
        "    # Prepare data for plotting\n",
        "    keys = sorted(label_counts.keys())\n",
        "    values = [label_counts[k] for k in keys]\n",
        "\n",
        "    # Plot the distribution as a bar chart\n",
        "    plt.figure(figsize=(8, 5))\n",
        "    plt.bar(keys, values, color=\"skyblue\")\n",
        "    plt.xlabel(\"Labels\")\n",
        "    plt.ylabel(\"Frequency\")\n",
        "    plt.title(title)\n",
        "    plt.xticks(keys)\n",
        "    plt.show()\n",
        "\n",
        "# Assuming you've already loaded and cleaned your data:\n",
        "# texts, labels = load_and_clean_data(\"uhhlt/amharichatespeechranlp\", {\"hate\": 0, \"normal\": 1, \"offensive\": 2})\n",
        "\n",
        "# Balance the dataset\n",
        "balanced_texts, balanced_labels = balance_data(texts, labels, target_samples=2240)\n",
        "\n",
        "# Display distribution of the balanced dataset\n",
        "plot_dataset_distribution(balanced_labels, title=\"Balanced Dataset Distribution\")\n"
      ],
      "metadata": {
        "colab": {
          "base_uri": "https://localhost:8080/",
          "height": 549
        },
        "id": "XXos-20qYM-0",
        "outputId": "4c1db087-09d3-44f6-be4c-c2a2dd4bd512"
      },
      "execution_count": 20,
      "outputs": [
        {
          "output_type": "stream",
          "name": "stdout",
          "text": [
            "Label Distribution:\n",
            "Label 1: 2240\n",
            "Label 2: 2240\n",
            "Label 0: 2240\n"
          ]
        },
        {
          "output_type": "display_data",
          "data": {
            "text/plain": [
              "<Figure size 800x500 with 1 Axes>"
            ],
            "image/png": "[encoded data removed]"
          },
          "metadata": {}
        }
      ]
    },
    {
      "cell_type": "markdown",
      "source": [
        "## **Function: `tokenize_and_split`**\n",
        "This function tokenizes text data and splits it into training, validation, and test sets.\n",
        "\n",
        "### **Parameters:**\n",
        "- `texts` (list): A list of text samples.\n",
        "- `labels` (list): A list of corresponding labels.\n",
        "- `model_name` (str): The name of the pretrained tokenizer model (e.g., `\"xlm-roberta-base\"`).\n",
        "\n",
        "### **Process:**\n",
        "1. **Load the tokenizer**: Uses `AutoTokenizer.from_pretrained(model_name)`.\n",
        "2. **Define a tokenization function**:\n",
        "   - Tokenizes the input text while applying padding (`max_length`) and truncation.\n",
        "3. **Create a dataset**: Converts `texts` and `labels` into a `Dataset` object.\n",
        "4. **Apply tokenization**: Maps the `tokenize_function` over the dataset.\n",
        "5. **Split the dataset**:\n",
        "   - **80% Train / 20% Test** split.\n",
        "   - **10% of Train set is further split into Validation**.\n",
        "6. **Return** the datasets.\n",
        "\n",
        "### **Returns:**\n",
        "- `train_dataset`: The training dataset (72% of the original data).\n",
        "- `val_dataset`: The validation dataset (8% of the original data).\n",
        "- `test_dataset`: The test dataset (20% of the original data).\n",
        "\n"
      ],
      "metadata": {
        "id": "yIuDgow32HfS"
      }
    },
    {
      "cell_type": "code",
      "source": [
        "def tokenize_and_split(texts, labels, model_name):\n",
        "    \"\"\"\n",
        "    Tokenize text data and split into training, validation, and test sets.\n",
        "    \"\"\"\n",
        "    tokenizer = AutoTokenizer.from_pretrained(model_name)\n",
        "\n",
        "    def tokenize_function(examples):\n",
        "        return tokenizer(examples[\"text\"], padding=\"max_length\", truncation=True)\n",
        "\n",
        "    dataset = Dataset.from_dict({\"text\": texts, \"label\": labels})\n",
        "    tokenized_dataset = dataset.map(tokenize_function, batched=True)\n",
        "\n",
        "    # Split data\n",
        "    train_test_split = tokenized_dataset.train_test_split(test_size=0.2)\n",
        "    train_val_split = train_test_split['train'].train_test_split(test_size=0.1)\n",
        "    return train_val_split['train'], train_val_split['test'], train_test_split['test']\n",
        "train_dataset, val_dataset, test_dataset = tokenize_and_split(balanced_texts, balanced_labels, model_name=\"xlm-roberta-base\")\n"
      ],
      "metadata": {
        "colab": {
          "base_uri": "https://localhost:8080/",
          "height": 49,
          "referenced_widgets": [
            "637d977e011744afb7e0510b9504d708",
            "7af941c0efdb4f2db5cfc58d35d688b6",
            "028cbcfdfbba4b46badada2c4ff376aa",
            "2fda4e2a151945a28c8c40102d9cf719",
            "0912afe17d5a44b1ad9b767ef4b814a0",
            "6ca844444f054e6ba5580bda7089d50f",
            "bc2d311d357b444087dec7455071789c",
            "e10662a5a4a44dcd9a8d8dc12aeef618",
            "fe5b69a2212e47a6a069ca585cc5b59c",
            "6e9e0049ffdd41b3a7e04de3dc3b325d",
            "8395b815e89c4426b16f0f5ac51050bb"
          ]
        },
        "id": "1LYdbyFMAZVT",
        "outputId": "d9876722-4274-4b79-caaa-891d889bfa51"
      },
      "execution_count": 4,
      "outputs": [
        {
          "output_type": "display_data",
          "data": {
            "text/plain": [
              "Map:   0%|          | 0/6720 [00:00<?, ? examples/s]"
            ],
            "application/vnd.jupyter.widget-view+json": {
              "version_major": 2,
              "version_minor": 0,
              "model_id": "637d977e011744afb7e0510b9504d708"
            }
          },
          "metadata": {}
        }
      ]
    },
    {
      "cell_type": "markdown",
      "source": [
        "## **Function: `train_model`**\n",
        "This function trains a sequence classification model with early stopping.\n",
        "\n",
        "### **Parameters:**\n",
        "- `train_dataset` (Dataset): The training dataset.\n",
        "- `val_dataset` (Dataset): The validation dataset.\n",
        "- `model_name` (str): The name of the pretrained transformer model (e.g., `\"xlm-roberta-base\"`).\n",
        "- `num_labels` (int): The number of unique labels in the dataset.\n",
        "\n",
        "---\n",
        "\n",
        "### **Process:**\n",
        "1. **Load the Pretrained Model**:\n",
        "   - Uses `AutoModelForSequenceClassification` with the specified number of labels.\n",
        "   - Moves the model to GPU (`cuda`) for faster training.\n",
        "\n",
        "2. **Define Evaluation Metrics**:\n",
        "   - Computes **accuracy**, **precision**, **recall**, and **F1-score** using `precision_recall_fscore_support` and `accuracy_score`.\n",
        "\n",
        "3. **Set Training Arguments**:\n",
        "   - **Output Directory:** `./results`\n",
        "   - **Evaluation Strategy:** Evaluates the model at the end of every epoch.\n",
        "   - **Learning Rate:** `2e-5`\n",
        "   - **Batch Size:** `32`\n",
        "   - **Number of Epochs:** `50`\n",
        "   - **Model Saving Strategy:** Saves the best model based on F1-score.\n",
        "   - **Early Stopping:** Stops training if performance does not improve for 5 epochs.\n",
        "\n",
        "4. **Initialize Trainer**:\n",
        "   - Uses the `Trainer` class to manage training.\n",
        "   - Includes `EarlyStoppingCallback(early_stopping_patience=5)`.\n",
        "\n",
        "5. **Train the Model**:\n",
        "   - Calls `trainer.train()` to start training.\n",
        "\n"
      ],
      "metadata": {
        "id": "egfXzeKZ2SmT"
      }
    },
    {
      "cell_type": "code",
      "source": [
        "def train_model(train_dataset, val_dataset, model_name, num_labels):\n",
        "    \"\"\"\n",
        "    Train a sequence classification model with early stopping.\n",
        "    \"\"\"\n",
        "    model = AutoModelForSequenceClassification.from_pretrained(model_name, num_labels=num_labels).to(\"cuda\")\n",
        "\n",
        "    def compute_metrics(pred):\n",
        "        labels = pred.label_ids\n",
        "        preds = np.argmax(pred.predictions, axis=1)\n",
        "        precision, recall, f1, _ = precision_recall_fscore_support(labels, preds, average=\"weighted\")\n",
        "        acc = accuracy_score(labels, preds)\n",
        "        return {\"accuracy\": acc, \"precision\": precision, \"recall\": recall, \"f1\": f1}\n",
        "\n",
        "    training_args = TrainingArguments(\n",
        "        output_dir=\"./results\",\n",
        "        evaluation_strategy=\"epoch\",\n",
        "        learning_rate=2e-5,\n",
        "        per_device_train_batch_size=32,\n",
        "        num_train_epochs=50,\n",
        "        save_strategy=\"epoch\",\n",
        "        load_best_model_at_end=True,\n",
        "        metric_for_best_model=\"f1\",\n",
        "        logging_steps=50,\n",
        "    )\n",
        "\n",
        "    trainer = Trainer(\n",
        "        model=model,\n",
        "        args=training_args,\n",
        "        train_dataset=train_dataset,\n",
        "        eval_dataset=val_dataset,\n",
        "        compute_metrics=compute_metrics,\n",
        "        callbacks=[EarlyStoppingCallback(early_stopping_patience=5)]\n",
        "    )\n",
        "    trainer.train()\n",
        "    return trainer\n",
        "trainer = train_model(train_dataset, val_dataset, model_name=\"xlm-roberta-base\", num_labels=3)\n"
      ],
      "metadata": {
        "colab": {
          "base_uri": "https://localhost:8080/",
          "height": 680
        },
        "id": "BKZzxM5IAc-4",
        "outputId": "b5ffb2b7-49a3-4556-d069-77ff9aa7804b"
      },
      "execution_count": 5,
      "outputs": [
        {
          "output_type": "stream",
          "name": "stderr",
          "text": [
            "Some weights of XLMRobertaForSequenceClassification were not initialized from the model checkpoint at xlm-roberta-base and are newly initialized: ['classifier.dense.bias', 'classifier.dense.weight', 'classifier.out_proj.bias', 'classifier.out_proj.weight']\n",
            "You should probably TRAIN this model on a down-stream task to be able to use it for predictions and inference.\n",
            "/usr/local/lib/python3.11/dist-packages/transformers/training_args.py:1575: FutureWarning: `evaluation_strategy` is deprecated and will be removed in version 4.46 of 🤗 Transformers. Use `eval_strategy` instead\n",
            "  warnings.warn(\n",
            "\u001b[34m\u001b[1mwandb\u001b[0m: \u001b[33mWARNING\u001b[0m The `run_name` is currently set to the same value as `TrainingArguments.output_dir`. If this was not intended, please specify a different run name by setting the `TrainingArguments.run_name` parameter.\n",
            "\u001b[34m\u001b[1mwandb\u001b[0m: Using wandb-core as the SDK backend.  Please refer to https://wandb.me/wandb-core for more information.\n",
            "\u001b[34m\u001b[1mwandb\u001b[0m: Currently logged in as: \u001b[33myonatangirma61\u001b[0m (\u001b[33myonatangirma61-yonatan-abebe\u001b[0m) to \u001b[32mhttps://api.wandb.ai\u001b[0m. Use \u001b[1m`wandb login --relogin`\u001b[0m to force relogin\n"
          ]
        },
        {
          "output_type": "display_data",
          "data": {
            "text/plain": [
              "<IPython.core.display.HTML object>"
            ],
            "text/html": [
              "Tracking run with wandb version 0.19.8"
            ]
          },
          "metadata": {}
        },
        {
          "output_type": "display_data",
          "data": {
            "text/plain": [
              "<IPython.core.display.HTML object>"
            ],
            "text/html": [
              "Run data is saved locally in <code>/content/wandb/run-20250313_201716-o6eat5k6</code>"
            ]
          },
          "metadata": {}
        },
        {
          "output_type": "display_data",
          "data": {
            "text/plain": [
              "<IPython.core.display.HTML object>"
            ],
            "text/html": [
              "Syncing run <strong><a href='https://wandb.ai/yonatangirma61-yonatan-abebe/huggingface/runs/o6eat5k6' target=\"_blank\">./results</a></strong> to <a href='https://wandb.ai/yonatangirma61-yonatan-abebe/huggingface' target=\"_blank\">Weights & Biases</a> (<a href='https://wandb.me/developer-guide' target=\"_blank\">docs</a>)<br>"
            ]
          },
          "metadata": {}
        },
        {
          "output_type": "display_data",
          "data": {
            "text/plain": [
              "<IPython.core.display.HTML object>"
            ],
            "text/html": [
              " View project at <a href='https://wandb.ai/yonatangirma61-yonatan-abebe/huggingface' target=\"_blank\">https://wandb.ai/yonatangirma61-yonatan-abebe/huggingface</a>"
            ]
          },
          "metadata": {}
        },
        {
          "output_type": "display_data",
          "data": {
            "text/plain": [
              "<IPython.core.display.HTML object>"
            ],
            "text/html": [
              " View run at <a href='https://wandb.ai/yonatangirma61-yonatan-abebe/huggingface/runs/o6eat5k6' target=\"_blank\">https://wandb.ai/yonatangirma61-yonatan-abebe/huggingface/runs/o6eat5k6</a>"
            ]
          },
          "metadata": {}
        },
        {
          "output_type": "display_data",
          "data": {
            "text/plain": [
              "<IPython.core.display.HTML object>"
            ],
            "text/html": [
              "\n",
              "    <div>\n",
              "      \n",
              "      <progress value='1824' max='7600' style='width:300px; height:20px; vertical-align: middle;'></progress>\n",
              "      [1824/7600 21:03 < 1:06:46, 1.44 it/s, Epoch 12/50]\n",
              "    </div>\n",
              "    <table border=\"1\" class=\"dataframe\">\n",
              "  <thead>\n",
              " <tr style=\"text-align: left;\">\n",
              "      <th>Epoch</th>\n",
              "      <th>Training Loss</th>\n",
              "      <th>Validation Loss</th>\n",
              "      <th>Accuracy</th>\n",
              "      <th>Precision</th>\n",
              "      <th>Recall</th>\n",
              "      <th>F1</th>\n",
              "    </tr>\n",
              "  </thead>\n",
              "  <tbody>\n",
              "    <tr>\n",
              "      <td>1</td>\n",
              "      <td>0.878500</td>\n",
              "      <td>0.797979</td>\n",
              "      <td>0.652416</td>\n",
              "      <td>0.670989</td>\n",
              "      <td>0.652416</td>\n",
              "      <td>0.646215</td>\n",
              "    </tr>\n",
              "    <tr>\n",
              "      <td>2</td>\n",
              "      <td>0.768800</td>\n",
              "      <td>0.761417</td>\n",
              "      <td>0.654275</td>\n",
              "      <td>0.654823</td>\n",
              "      <td>0.654275</td>\n",
              "      <td>0.653100</td>\n",
              "    </tr>\n",
              "    <tr>\n",
              "      <td>3</td>\n",
              "      <td>0.682800</td>\n",
              "      <td>0.826694</td>\n",
              "      <td>0.659851</td>\n",
              "      <td>0.702148</td>\n",
              "      <td>0.659851</td>\n",
              "      <td>0.651916</td>\n",
              "    </tr>\n",
              "    <tr>\n",
              "      <td>4</td>\n",
              "      <td>0.628100</td>\n",
              "      <td>0.764661</td>\n",
              "      <td>0.708178</td>\n",
              "      <td>0.716180</td>\n",
              "      <td>0.708178</td>\n",
              "      <td>0.706056</td>\n",
              "    </tr>\n",
              "    <tr>\n",
              "      <td>5</td>\n",
              "      <td>0.502300</td>\n",
              "      <td>0.811407</td>\n",
              "      <td>0.682156</td>\n",
              "      <td>0.683640</td>\n",
              "      <td>0.682156</td>\n",
              "      <td>0.682066</td>\n",
              "    </tr>\n",
              "    <tr>\n",
              "      <td>6</td>\n",
              "      <td>0.405100</td>\n",
              "      <td>0.946265</td>\n",
              "      <td>0.639405</td>\n",
              "      <td>0.671388</td>\n",
              "      <td>0.639405</td>\n",
              "      <td>0.636922</td>\n",
              "    </tr>\n",
              "    <tr>\n",
              "      <td>7</td>\n",
              "      <td>0.382100</td>\n",
              "      <td>0.844394</td>\n",
              "      <td>0.713755</td>\n",
              "      <td>0.715364</td>\n",
              "      <td>0.713755</td>\n",
              "      <td>0.712745</td>\n",
              "    </tr>\n",
              "    <tr>\n",
              "      <td>8</td>\n",
              "      <td>0.269400</td>\n",
              "      <td>1.208365</td>\n",
              "      <td>0.678439</td>\n",
              "      <td>0.702459</td>\n",
              "      <td>0.678439</td>\n",
              "      <td>0.672030</td>\n",
              "    </tr>\n",
              "    <tr>\n",
              "      <td>9</td>\n",
              "      <td>0.227300</td>\n",
              "      <td>1.245196</td>\n",
              "      <td>0.689591</td>\n",
              "      <td>0.694410</td>\n",
              "      <td>0.689591</td>\n",
              "      <td>0.690094</td>\n",
              "    </tr>\n",
              "    <tr>\n",
              "      <td>10</td>\n",
              "      <td>0.197700</td>\n",
              "      <td>1.194948</td>\n",
              "      <td>0.704461</td>\n",
              "      <td>0.710794</td>\n",
              "      <td>0.704461</td>\n",
              "      <td>0.704096</td>\n",
              "    </tr>\n",
              "    <tr>\n",
              "      <td>11</td>\n",
              "      <td>0.224900</td>\n",
              "      <td>1.343131</td>\n",
              "      <td>0.676580</td>\n",
              "      <td>0.679351</td>\n",
              "      <td>0.676580</td>\n",
              "      <td>0.676957</td>\n",
              "    </tr>\n",
              "    <tr>\n",
              "      <td>12</td>\n",
              "      <td>0.173300</td>\n",
              "      <td>1.508616</td>\n",
              "      <td>0.698885</td>\n",
              "      <td>0.707589</td>\n",
              "      <td>0.698885</td>\n",
              "      <td>0.698940</td>\n",
              "    </tr>\n",
              "  </tbody>\n",
              "</table><p>"
            ]
          },
          "metadata": {}
        }
      ]
    },
    {
      "cell_type": "markdown",
      "source": [
        "## **Function: `plot_loss`**\n",
        "This function plots the training and validation loss over epochs, ensuring both losses are properly aligned.\n",
        "\n",
        "### **Parameters:**\n",
        "- `trainer` (Trainer): The trained model's `Trainer` object, which contains the training logs.\n",
        "\n",
        "---\n",
        "\n",
        "### **Process:**\n",
        "1. **Extract Loss Values:**\n",
        "   - Retrieves training loss (`\"loss\"`) and validation loss (`\"eval_loss\"`) from `trainer.state.log_history`.\n",
        "\n",
        "2. **Ensure Alignment:**\n",
        "   - Since the number of recorded training and validation losses may differ, it trims both lists to the same minimum length.\n",
        "\n",
        "3. **Plot the Loss Curve:**\n",
        "   - X-axis: Epochs.\n",
        "   - Y-axis: Loss values.\n",
        "   - Training loss is plotted in **blue**.\n",
        "   - Validation loss is plotted in **orange**.\n",
        "   - Adds labels, title, and a legend for better readability.\n",
        "\n"
      ],
      "metadata": {
        "id": "MongWhFN2jgD"
      }
    },
    {
      "cell_type": "code",
      "source": [
        "def plot_loss(trainer):\n",
        "    \"\"\"\n",
        "    Plot training and validation loss over epochs, ensuring alignment.\n",
        "    \"\"\"\n",
        "    logs = trainer.state.log_history\n",
        "    train_loss = [log[\"loss\"] for log in logs if \"loss\" in log]\n",
        "    eval_loss = [log[\"eval_loss\"] for log in logs if \"eval_loss\" in log]\n",
        "\n",
        "    # Align lengths by truncating to the smaller size\n",
        "    min_length = min(len(train_loss), len(eval_loss))\n",
        "    train_loss = train_loss[:min_length]\n",
        "    eval_loss = eval_loss[:min_length]\n",
        "    epochs = range(1, min_length + 1)\n",
        "\n",
        "    plt.figure(figsize=(10, 6))\n",
        "    plt.plot(epochs, train_loss, label=\"Training Loss\", color=\"blue\")\n",
        "    plt.plot(epochs, eval_loss, label=\"Validation Loss\", color=\"orange\")\n",
        "    plt.xlabel(\"Epochs\")\n",
        "    plt.ylabel(\"Loss\")\n",
        "    plt.title(\"Training and Validation Loss\")\n",
        "    plt.legend()\n",
        "    plt.show()\n",
        "plot_loss(trainer)\n",
        "\n"
      ],
      "metadata": {
        "colab": {
          "base_uri": "https://localhost:8080/",
          "height": 465
        },
        "outputId": "787515cd-08d9-43e7-8f7b-647307c0032f",
        "id": "gaFs01elJnHv"
      },
      "execution_count": 8,
      "outputs": [
        {
          "output_type": "display_data",
          "data": {
            "text/plain": [
              "<Figure size 1000x600 with 1 Axes>"
            ],
            "image/png": "[encoded data removed]"
          },
          "metadata": {}
        }
      ]
    },
    {
      "cell_type": "markdown",
      "source": [
        "## **Function: `plot_confusion_matrix`**\n",
        "This function generates and displays a **confusion matrix** for predictions on the test dataset.\n",
        "\n",
        "---\n",
        "\n",
        "### **Parameters:**\n",
        "- `trainer` (Trainer): The trained model's `Trainer` object used to make predictions.\n",
        "- `test_dataset` (Dataset): The dataset containing test samples for evaluation.\n",
        "\n",
        "---\n",
        "\n",
        "### **Process:**\n",
        "1. **Generate Predictions:**\n",
        "   - Uses `trainer.predict(test_dataset)` to get model predictions.\n",
        "   - Extracts **true labels** (`y_true`) and **predicted labels** (`y_pred`).\n",
        "\n",
        "2. **Compute Confusion Matrix:**\n",
        "   - Uses `confusion_matrix(y_true, y_pred)` from `sklearn.metrics`.\n",
        "\n",
        "3. **Plot the Confusion Matrix:**\n",
        "   - Uses `ConfusionMatrixDisplay` to display the matrix.\n",
        "   - Labels the classes as `[\"Hate\", \"Normal\", \"Offensive\"]`.\n",
        "   - Applies the `\"viridis\"` colormap for visualization.\n",
        "   - Titles the plot as **\"Confusion Matrix\"**.\n",
        "\n",
        "\n"
      ],
      "metadata": {
        "id": "z2SCupYE2u4S"
      }
    },
    {
      "cell_type": "code",
      "source": [
        "def plot_confusion_matrix(trainer, test_dataset):\n",
        "    \"\"\"\n",
        "    Plot confusion matrix for predictions on the test set.\n",
        "    \"\"\"\n",
        "    predictions = trainer.predict(test_dataset)\n",
        "    y_true = predictions.label_ids\n",
        "    y_pred = np.argmax(predictions.predictions, axis=1)\n",
        "\n",
        "    cm = confusion_matrix(y_true, y_pred)\n",
        "    disp = ConfusionMatrixDisplay(confusion_matrix=cm, display_labels=[\"Hate\", \"Normal\", \"Offensive\"])\n",
        "    disp.plot(cmap=\"viridis\")\n",
        "    plt.title(\"Confusion Matrix\")\n",
        "    plt.show()\n",
        "plot_confusion_matrix(trainer, test_dataset)\n"
      ],
      "metadata": {
        "colab": {
          "base_uri": "https://localhost:8080/",
          "height": 472
        },
        "id": "d44HrkXrA6el",
        "outputId": "13818452-bcd7-4c44-8fc1-3507cf9b28e5"
      },
      "execution_count": 9,
      "outputs": [
        {
          "output_type": "display_data",
          "data": {
            "text/plain": [
              "<IPython.core.display.HTML object>"
            ],
            "text/html": []
          },
          "metadata": {}
        },
        {
          "output_type": "display_data",
          "data": {
            "text/plain": [
              "<Figure size 640x480 with 2 Axes>"
            ],
            "image/png": "[encoded data removed]"
          },
          "metadata": {}
        }
      ]
    },
    {
      "cell_type": "code",
      "source": [
        "# Save the model\n",
        "trainer.save_model(\"./results\")\n",
        "\n",
        "# Save the tokenizer\n",
        "from transformers import AutoTokenizer\n",
        "tokenizer = AutoTokenizer.from_pretrained(\"xlm-roberta-base\")\n",
        "tokenizer.save_pretrained(\"./results\")\n"
      ],
      "metadata": {
        "colab": {
          "base_uri": "https://localhost:8080/"
        },
        "id": "4GKZ7nqZQRtg",
        "outputId": "38c5ed08-6290-47bb-8c11-b91d6bde54e4"
      },
      "execution_count": 14,
      "outputs": [
        {
          "output_type": "execute_result",
          "data": {
            "text/plain": [
              "('./results/tokenizer_config.json',\n",
              " './results/special_tokens_map.json',\n",
              " './results/sentencepiece.bpe.model',\n",
              " './results/added_tokens.json',\n",
              " './results/tokenizer.json')"
            ]
          },
          "metadata": {},
          "execution_count": 14
        }
      ]
    },
    {
      "cell_type": "markdown",
      "source": [
        "## **Function: `display_predictions_vs_ground_truth`**\n",
        "This function compares **model predictions** against **ground truth labels** on the test dataset.\n",
        "\n",
        "---\n",
        "\n",
        "### **Parameters:**\n",
        "- `trainer` (Trainer): A Hugging Face Trainer instance used for predictions.\n",
        "- `test_dataset` (Dataset): The test dataset containing text samples and labels.\n",
        "- `num_samples` (int, default=20): Number of samples to display in the comparison table.\n",
        "- `label_mapping` (dict, optional): A dictionary mapping numerical labels to human-readable class names.  \n",
        "  Example: `{0: \"Hate\", 1: \"Normal\", 2: \"Offensive\"}`.\n",
        "\n",
        "---\n",
        "\n",
        "### **Process:**\n",
        "1. **Generate Predictions:**\n",
        "   - Uses `trainer.predict(test_dataset)` to obtain predicted labels.\n",
        "   - Extracts **true labels** (`y_true`) and **predicted labels** (`y_pred`).\n",
        "\n",
        "2. **Retrieve and Format Text Samples:**\n",
        "   - Extracts corresponding text samples from `test_dataset[\"text\"]`.\n",
        "   - Truncates text to 100 characters for cleaner display.\n",
        "\n",
        "3. **Map Labels to Readable Class Names (if provided):**\n",
        "   - Converts numerical labels to their mapped names.\n",
        "\n",
        "4. **Create a Pandas DataFrame for Display:**\n",
        "   - Shows **text samples**, **ground truth labels**, and **model predictions**.\n",
        "\n",
        "5. **Display Classification Report:**\n",
        "   - Uses `classification_report(y_true, y_pred)` from `sklearn.metrics` for performance evaluation.\n",
        "   - If `label_mapping` is provided, labels are mapped for readability.\n",
        "\n",
        "---\n",
        "\n",
        "### **Returns:**\n",
        "- **Prints a table** with **text samples, ground truth labels, and model predictions**.\n",
        "- **Prints a classification report** showing precision, recall, and F1-score for each class.\n",
        "\n",
        "\n",
        "\n",
        "\n"
      ],
      "metadata": {
        "id": "P6kp5Q4i3Gj-"
      }
    },
    {
      "cell_type": "code",
      "source": [
        "\n",
        "\n",
        "def display_predictions_vs_ground_truth(trainer, test_dataset, num_samples=20, label_mapping=None):\n",
        "    \"\"\"\n",
        "    Display and compare ground truth labels with predictions on the test set.\n",
        "\n",
        "    Parameters:\n",
        "      trainer: A HuggingFace Trainer instance (or similar) with a .predict() method.\n",
        "      test_dataset: A HuggingFace Dataset object containing the test set. Assumed to have a \"text\" column.\n",
        "      num_samples: The number of samples to display (default: 20 sample rows).\n",
        "      label_mapping: Optional dictionary mapping numerical labels to human-readable label names.\n",
        "                     For example: {0: \"Hate\", 1: \"Normal\", 2: \"Offensive\"}\n",
        "    \"\"\"\n",
        "    # Obtain predictions from the trainer\n",
        "    predictions = trainer.predict(test_dataset)\n",
        "    y_pred = predictions.predictions.argmax(axis=1)\n",
        "    y_true = predictions.label_ids\n",
        "\n",
        "    # Extract the original texts (assuming the test_dataset has a \"text\" field)\n",
        "    texts = [test_dataset[i][\"text\"] for i in range(len(test_dataset))]\n",
        "\n",
        "    # Optionally map labels to their names using label_mapping\n",
        "    if label_mapping:\n",
        "        y_true_named = [label_mapping.get(label, label) for label in y_true]\n",
        "        y_pred_named = [label_mapping.get(label, label) for label in y_pred]\n",
        "    else:\n",
        "        y_true_named = y_true\n",
        "        y_pred_named = y_pred\n",
        "\n",
        "    # Create a Pandas DataFrame to show the results nicely.\n",
        "    # We truncate the text to 100 characters for display purposes.\n",
        "    df_results = pd.DataFrame({\n",
        "        \"Text\": [text if len(text) <= 100 else text[:100] + \"...\" for text in texts[:num_samples]],\n",
        "        \"Ground Truth\": y_true_named[:num_samples],\n",
        "        \"Prediction\": y_pred_named[:num_samples]\n",
        "    })\n",
        "\n",
        "    print(\"Sample Predictions vs. Ground Truth:\")\n",
        "    print(df_results)\n",
        "\n",
        "    # Optional: Display a detailed classification report for the entire test set.\n",
        "    print(\"\\nClassification Report:\")\n",
        "    if label_mapping:\n",
        "        # Ensure the target names are sorted by label index.\n",
        "        sorted_labels = [label_mapping[i] for i in sorted(label_mapping)]\n",
        "        print(classification_report(y_true, y_pred, target_names=sorted_labels))\n",
        "    else:\n",
        "        print(classification_report(y_true, y_pred))\n",
        "\n",
        "\n",
        "\n",
        "\n"
      ],
      "metadata": {
        "id": "F-k3dNC9UpOF"
      },
      "execution_count": 17,
      "outputs": []
    },
    {
      "cell_type": "code",
      "source": [
        "# Assuming your label mapping is something like this:\n",
        "label_mapping = {0: \"Hate\", 1: \"Normal\", 2: \"Offensive\"}\n",
        "\n",
        "# Display sample predictions (first 20 test samples) plus a full classification report.\n",
        "display_predictions_vs_ground_truth(trainer, test_dataset, num_samples=20, label_mapping=label_mapping)\n"
      ],
      "metadata": {
        "colab": {
          "base_uri": "https://localhost:8080/",
          "height": 607
        },
        "id": "hZV2RzboUzBm",
        "outputId": "a5c0feed-2b05-4404-e61f-f03a886d3156"
      },
      "execution_count": 18,
      "outputs": [
        {
          "output_type": "display_data",
          "data": {
            "text/plain": [
              "<IPython.core.display.HTML object>"
            ],
            "text/html": []
          },
          "metadata": {}
        },
        {
          "output_type": "stream",
          "name": "stdout",
          "text": [
            "Sample Predictions vs. Ground Truth:\n",
            "                                                 Text Ground Truth Prediction\n",
            "0   user ነፍስህ በኃጢአት ተጠምቃለች ፡፡ እስከመቼ እግዚአብሔርን ትክዳለህ...    Offensive  Offensive\n",
            "1   user user አንተ እራስህ ገና ለገና አንድ መሀይም ተሳደበ ብለህ ወደ...    Offensive  Offensive\n",
            "2   user የፖለቲካ ድርጅት ደጋፊ ላትሆን ትጭላለህ ግን የኣብይን ቂጥ በየፖ...    Offensive  Offensive\n",
            "3   user አማራ በታሪኩ እንደዚህ ተዋርዶና ተበድሎማ ያውቃል። እሱም በትህነ...         Hate     Normal\n",
            "4   user user ቆምጬ ሽንታም ሰርግ ላይ መቶኮስ ጉራ መሸለል እንጂ ቆምጬ...         Hate  Offensive\n",
            "5   user user ተይዘሃል የሚባለው ነገርስ  በ24 ሰዓት ውስጥ ለዚህ ትው...    Offensive  Offensive\n",
            "6   በአህያ ውሽማ ተለማምዶ ሚስት ያገባ ፋኖ ልጁን ኩራባቸው ብሎ ስም የሚያወ...         Hate     Normal\n",
            "7   user ፈጣሪያችንን ይዘን አንተን አስከትለን መቼም ምድረባንዳና ነጫጭባን...         Hate     Normal\n",
            "8   ethiopia እንደ ኢሳት ዘገባ ከሆነ ዛሬ በወለጋ ታጣቂዎች ጥቃት ኣድር...       Normal       Hate\n",
            "9   አማረኛ መናገር አማራ አያረግም ይህ የትግራይ ፋሽስት ነት ማለቴ ናቲ ተብ...         Hate       Hate\n",
            "10    user user user user ባንዳነታቹ ከድሮም ጀምሮ እንደሆነ እናካለን         Hate     Normal\n",
            "11                  የመሰቦ ሲሚንቶ ፋብሪካ ምርቱን ለገበያ ማቅረብ ጀመረ       Normal     Normal\n",
            "12  ቁጣው ያዋረድባታል እኔ አሸባሪን መንግስት ሾሞ ስያ ከዚህ በለይ ህማም አ...         Hate     Normal\n",
            "13  ልዩ መረጃ እንኳን እኛ ግመሎቻችን የኢትዮጵያን ሰንደቅ አላማ ያውቃሉ የአ...         Hate       Hate\n",
            "14  user user አንተ አረመኔ ጨካኝ አውሬ ልጆችህን ያሳጣህ ፡ በህፃናት ...    Offensive  Offensive\n",
            "15  እነኚህ እንከፎች ዛሬም ሆደ ሰፊነት፡ የማያዳግም እርምጃ ምናምን ይላሉ ሆ...         Hate       Hate\n",
            "16                 user ችኩር መንደራችን ያማች አባታችን እንበል እንዴ       Normal     Normal\n",
            "17  ወደ ጦር ግንባር አልሄድም፣ ትምህርት እፈልጋለሁ ብሎ መቅረት በአሸባሪው ...         Hate     Normal\n",
            "18  user በጣም የወረደ አነጋገር። 100 በቁጥትር ስር ዋለ። ቅሌታም ሽማግ...    Offensive  Offensive\n",
            "19                           user ኣየር ላይ ያለ ዱቄት ኣይቦካም       Normal  Offensive\n",
            "\n",
            "Classification Report:\n",
            "              precision    recall  f1-score   support\n",
            "\n",
            "        Hate       0.71      0.61      0.66       459\n",
            "      Normal       0.65      0.74      0.69       443\n",
            "   Offensive       0.68      0.68      0.68       442\n",
            "\n",
            "    accuracy                           0.68      1344\n",
            "   macro avg       0.68      0.68      0.68      1344\n",
            "weighted avg       0.68      0.68      0.68      1344\n",
            "\n"
          ]
        }
      ]
    },
    {
      "cell_type": "markdown",
      "source": [
        "# **Function: `interactive_inference`**\n",
        "\n",
        "This function launches an **interactive text classification loop** where users can enter text, and the model will predict its category along with a confidence score.\n",
        "\n",
        "## **Parameters:**\n",
        "- **`model_dir`** (str, default=`\"./results\"`):  \n",
        "  Path to the directory where the fine-tuned model and tokenizer are stored.\n",
        "- **`device`** (int, default=`0`):  \n",
        "  - `0`: Runs inference on **GPU** (if available).  \n",
        "  - `-1`: Runs inference on **CPU**.\n",
        "\n",
        "---\n",
        "\n",
        "## **How It Works:**\n",
        "1. **Loads the Model and Tokenizer**  \n",
        "   - Uses `pipeline(\"text-classification\")` from 🤗 **Hugging Face Transformers** to load the fine-tuned model from `model_dir`.\n",
        "  \n",
        "2. **Starts an Interactive Loop**  \n",
        "   - Prompts the user to enter a text input.\n",
        "   - If the user types `\"exit\"`, the loop terminates.\n",
        "  \n",
        "3. **Performs Inference**  \n",
        "   - Feeds the input text into the model.\n",
        "   - Retrieves the **predicted label** and **confidence score**.\n",
        "   - Prints the results in the format:  \n",
        "     ```plaintext\n",
        "     Prediction: <label> (Confidence: <score>)\n",
        "     ```\n",
        "  \n",
        "4. **Repeats Until the User Exits**  \n",
        "   - The loop continues until `\"exit\"` is typed.\n",
        "\n",
        "\n"
      ],
      "metadata": {
        "id": "P9iLSWgD3zSP"
      }
    },
    {
      "cell_type": "code",
      "source": [
        "\n",
        "\n",
        "def interactive_inference(model_dir=\"./results\", device=0):\n",
        "    \"\"\"\n",
        "    Launch an interactive inference loop that loads a fine-tuned model and tokenizer,\n",
        "    takes user input, and then prints out the predicted label and its confidence.\n",
        "\n",
        "    Parameters:\n",
        "        model_dir (str): Path to the directory where the model and tokenizer are saved.\n",
        "        device (int): Device index for computation (0 for GPU, -1 for CPU).\n",
        "    \"\"\"\n",
        "    # Load the inference pipeline using the model and tokenizer from model_dir.\n",
        "    infer_pipe = pipeline(\"text-classification\", model=model_dir, tokenizer=model_dir, device=device)\n",
        "\n",
        "    print(\"Enter text to classify (type 'exit' to quit):\")\n",
        "\n",
        "    while True:\n",
        "        user_input = input(\"Input: \").strip()\n",
        "        if user_input.lower() == \"exit\":\n",
        "            print(\"Exiting...\")\n",
        "            break\n",
        "\n",
        "        # Make a prediction on the provided text.\n",
        "        prediction = infer_pipe(user_input)\n",
        "        label = prediction[0]['label']\n",
        "        score = prediction[0]['score']\n",
        "        print(f\"Prediction: {label} (Confidence: {score:.2f})\")\n",
        "\n",
        "# To run the interactive inference loop, call the function:\n",
        "if __name__ == \"__main__\":\n",
        "    interactive_inference()\n"
      ],
      "metadata": {
        "colab": {
          "base_uri": "https://localhost:8080/"
        },
        "id": "GjhXBTUcSS-f",
        "outputId": "09c4b157-f912-4973-f2bd-045a8696ea97"
      },
      "execution_count": 16,
      "outputs": [
        {
          "output_type": "stream",
          "name": "stderr",
          "text": [
            "Device set to use cuda:0\n"
          ]
        },
        {
          "output_type": "stream",
          "name": "stdout",
          "text": [
            "Enter text to classify (type 'exit' to quit):\n",
            "Input: የትግራይ ዳያስፖራ አገራቹ ግቡ ቢባሉ፣ ባለማጋነን ትግርኛ ተናጋሪ አሜሪካ ውስጥ ይታጣ ነበረ??\n",
            "Prediction: LABEL_1 (Confidence: 0.47)\n",
            "Input: የትግራይ ዳያስፖራ አገራቹ ግቡ ቢባሉ፣ ባለማጋነን ትግርኛ ተናጋሪ አሜሪካ ውስጥ ይታጣ ነበረ??\n",
            "Prediction: LABEL_1 (Confidence: 0.47)\n",
            "Input: የምወድሽ፣ የምሳሳልሽ፣ እናቴ፣ ሃገሬ፣ ኢትዮጵያ! ከላይ አረንጓዴ አለ ኣ? ከመሐል ደሞ ቢጫ ከስር ደሞ ቀይ... በቃ ሁሌም በእነሱ ነው መድመቅ የምፈልገው...\n",
            "Prediction: LABEL_1 (Confidence: 0.98)\n",
            "Input:  ቀን ይቅርታን የምትለምኑበት እና ህመም እና ተስፋ መቁረጥ እንጂ ሌላ ምንም ያልተተዉበት ቀን የሚመጣው ክፉ ይመጣል እናም ሕይወትዎን በመጨረሻ በቀስታ እና በአሳዛኝ ሁኔታ የሰው ልጅን በመጨረሻ ይወስዳል ፡፡\n",
            "Prediction: LABEL_1 (Confidence: 0.98)\n",
            "Input: ቆመክ ሞተካል ሱፍ ለብስክ ባለጌ ወንበር ላይ ሆነክ ሳይሆን ሄድ \n",
            "Prediction: LABEL_2 (Confidence: 0.75)\n",
            "Input: የትግራይ ዳያስፖራ አገራቹ ግቡ ቢባሉ፣ ባለማጋነን ትግርኛ ተናጋሪ አሜሪካ ውስጥ ይታጣ ነበረ??\n",
            "Prediction: LABEL_1 (Confidence: 0.47)\n",
            "Input:  በዚህ ሶስት ዓመት ውጥንቅጡ በወጣባት አገር ዋናውን ጁንታ\n",
            "Prediction: LABEL_0 (Confidence: 0.95)\n",
            "Input: exit\n",
            "Exiting...\n"
          ]
        }
      ]
    }
  ]
}